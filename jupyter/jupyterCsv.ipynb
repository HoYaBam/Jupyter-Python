{
 "cells": [
  {
   "cell_type": "markdown",
   "metadata": {},
   "source": [
    "# 글 읽어오고 저장하기\n",
    "## 엑셀을 읽어오고 다른 엑셀에 저장"
   ]
  },
  {
   "cell_type": "code",
   "execution_count": 16,
   "metadata": {},
   "outputs": [
    {
     "name": "stdout",
     "output_type": "stream",
     "text": [
      "['1. 홍길동', ' 대전 서구', ' 010-1234-5678']\n",
      "['2. 개똥이', ' 서울 관악구', ' 010-2222-3333']\n",
      "['3. 이쁜이', ' 대구 달서구', ' 010-9999-8888']\n"
     ]
    }
   ],
   "source": [
    "import csv\n",
    "\n",
    "csvfile = open('test.csv', 'r', encoding='utf-8')\n",
    "csvback = open('testback.csv', 'wt+') #뒤에 추가할 때는 wt+ 대신 a << 를 쓰기\n",
    "csvbackcup = csv.writer(csvback)\n",
    "lines = csv.reader(csvfile)\n",
    "for line in lines:\n",
    "    print(line)\n",
    "    csvbackcup.writerow(line)\n",
    "    \n",
    "csvfile.close()\n",
    "csvback.close()"
   ]
  },
  {
   "cell_type": "code",
   "execution_count": 47,
   "metadata": {},
   "outputs": [],
   "source": [
    "import csv\n",
    "\n",
    "# 날씨 데이터를 새롭게 변환하여 새롭게 저장\n",
    "\n",
    "csvfile = open('weather.csv', 'r')\n",
    "csvback = open('newweather.csv', 'wt+')\n",
    "csvbackcup = csv.writer(csvback)\n",
    "\n",
    "lines = csv.reader(csvfile)\n",
    "next(lines) # 한 라인을 읽는다. 다음라인으로\n",
    "csvbackcup.writerow(['날짜', '최고','최저','평균','일교차'])\n",
    "for line in lines:\n",
    "    if float(line[3]) > 0:\n",
    "        dtc = float(line[2]) - float(line[3])\n",
    "    else:\n",
    "        dtc = float(line[3]) - float(line[2])\n",
    "    csvbackcup.writerow([line[0] ,line[2] , line[3] , line[4] , str(dtc)])\n",
    "    \n",
    "    \n",
    "csvfile.close()\n",
    "csvback.close()"
   ]
  },
  {
   "cell_type": "code",
   "execution_count": 19,
   "metadata": {},
   "outputs": [
    {
     "name": "stderr",
     "output_type": "stream",
     "text": [
      "<ipython-input-19-6f44fd4a3fd5>:6: DeprecationWarning: executable_path has been deprecated, please pass in a Service object\n",
      "  driver = webdriver.Chrome(executable_path='./chromedriver.exe')\n",
      "<ipython-input-19-6f44fd4a3fd5>:22: DeprecationWarning: find_element_by_xpath is deprecated. Please use find_element(by=By.XPATH, value=xpath) instead\n",
      "  data = driver.find_element_by_xpath('//*[@id=\"contentarea\"]/div[3]/table/tbody/tr[{}]/td[{}]'.format(i, j))\n"
     ]
    }
   ],
   "source": [
    "from selenium import webdriver\n",
    "from selenium.webdriver.common.keys import Keys\n",
    "import time\n",
    "import csv\n",
    "\n",
    "driver = webdriver.Chrome(executable_path='./chromedriver.exe')\n",
    "url = \"https://finance.naver.com/sise/sise_quant.naver\"\n",
    "driver.get(url)\n",
    "time.sleep(1)\n",
    "\n",
    "csvfile = open('newdata.csv', 'wt+')\n",
    "csvfilew = csv.writer(csvfile)\n",
    "\n",
    "newdata = \"\"\n",
    "newlistdata = ([])\n",
    "newlistdata2 = []\n",
    "newlistdata3 = []\n",
    "data2 = \"\"\n",
    "for i in range(3, 160):\n",
    "    for j in range(1, 6):\n",
    "        try:\n",
    "            data = driver.find_element_by_xpath('//*[@id=\"contentarea\"]/div[3]/table/tbody/tr[{}]/td[{}]'.format(i, j))\n",
    "            newdata = data.text\n",
    "            if newdata != \" \":\n",
    "                newlistdata += newdata\n",
    "#             print(newlistdata)\n",
    "                for item in newlistdata:\n",
    "                    data2 += item\n",
    "                newlistdata2.append(data2)\n",
    "                data2 = \"\"\n",
    "                newlistdata = []\n",
    "        except:\n",
    "            continue\n",
    "    \n",
    "\n",
    "\n",
    "    newlistdata3.append(newlistdata2)\n",
    "    newlistdata2 = []\n",
    "    newlistdata = []\n",
    "    newdata = \"\"\n",
    "\n",
    "for item in newlistdata3:\n",
    "    csvfilew.writerow(item)\n",
    "csvfile.close()"
   ]
  },
  {
   "cell_type": "code",
   "execution_count": 29,
   "metadata": {},
   "outputs": [
    {
     "name": "stderr",
     "output_type": "stream",
     "text": [
      "<ipython-input-29-88749a38d8ec>:6: DeprecationWarning: executable_path has been deprecated, please pass in a Service object\n",
      "  driver = webdriver.Chrome(executable_path='./chromedriver.exe')\n",
      "<ipython-input-29-88749a38d8ec>:20: DeprecationWarning: find_element_by_xpath is deprecated. Please use find_element(by=By.XPATH, value=xpath) instead\n",
      "  data = driver.find_element_by_xpath('//*[@id=\"contentarea\"]/div[3]/table/tbody/tr[{}]/td[{}]'.format(i, j))\n"
     ]
    }
   ],
   "source": [
    "from selenium import webdriver\n",
    "from selenium.webdriver.common.keys import Keys\n",
    "import time\n",
    "import csv\n",
    "\n",
    "driver = webdriver.Chrome(executable_path='./chromedriver.exe')\n",
    "url = \"https://finance.naver.com/sise/sise_quant.naver\"\n",
    "driver.get(url)\n",
    "time.sleep(1)\n",
    "\n",
    "csvfile = open('newdata.csv', 'wt+', newline=\"\")\n",
    "csvfilew = csv.writer(csvfile)\n",
    "\n",
    "newdata = \"\"\n",
    "newlistdata = []\n",
    "newlistdata2 = []\n",
    "for i in range(3, 160):\n",
    "    for j in range(1, 13):\n",
    "        try:\n",
    "            data = driver.find_element_by_xpath('//*[@id=\"contentarea\"]/div[3]/table/tbody/tr[{}]/td[{}]'.format(i, j))\n",
    "            newdata = data.text\n",
    "            newlistdata.append(newdata)\n",
    "        except:\n",
    "            continue\n",
    "    if newlistdata != ['']:\n",
    "        newlistdata2.append(newlistdata)\n",
    "    newdata = \"\"\n",
    "    newlistdata = []\n",
    "\n",
    "for item in newlistdata2:\n",
    "    csvfilew.writerow(item)\n",
    "csvfile.close()"
   ]
  }
 ],
 "metadata": {
  "kernelspec": {
   "display_name": "Python 3",
   "language": "python",
   "name": "python3"
  },
  "language_info": {
   "codemirror_mode": {
    "name": "ipython",
    "version": 3
   },
   "file_extension": ".py",
   "mimetype": "text/x-python",
   "name": "python",
   "nbconvert_exporter": "python",
   "pygments_lexer": "ipython3",
   "version": "3.8.3"
  }
 },
 "nbformat": 4,
 "nbformat_minor": 4
}
