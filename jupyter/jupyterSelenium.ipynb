{
 "cells": [
  {
   "cell_type": "markdown",
   "metadata": {},
   "source": [
    "# 셀레니움 실습\n",
    "## xPath을 활용한 클릭 실습"
   ]
  },
  {
   "cell_type": "code",
   "execution_count": 42,
   "metadata": {
    "scrolled": true
   },
   "outputs": [
    {
     "name": "stderr",
     "output_type": "stream",
     "text": [
      "<ipython-input-42-5092c21bc2a6>:6: DeprecationWarning: executable_path has been deprecated, please pass in a Service object\n",
      "  driver = webdriver.Chrome(executable_path='./chromedriver.exe')\n",
      "<ipython-input-42-5092c21bc2a6>:16: DeprecationWarning: find_element_by_xpath is deprecated. Please use find_element(by=By.XPATH, value=xpath) instead\n",
      "  stock = driver.find_element_by_xpath('//*[@id=\"NM_FAVORITE\"]/div[1]/ul[2]/li[3]/a')\n",
      "<ipython-input-42-5092c21bc2a6>:20: DeprecationWarning: find_element_by_xpath is deprecated. Please use find_element(by=By.XPATH, value=xpath) instead\n",
      "  search_box = driver.find_element_by_xpath('//*[@id=\"stock_items\"]')\n"
     ]
    }
   ],
   "source": [
    "from selenium import webdriver\n",
    "from selenium.webdriver.common.keys import Keys\n",
    "import time\n",
    "\n",
    "\n",
    "driver = webdriver.Chrome(executable_path='./chromedriver.exe')\n",
    "\n",
    "#url = \"http://pythonscraping.com/pages/javascript/ajaxDemo.html\"\n",
    "url = \"https://www.naver.com\"\n",
    "\n",
    "driver.get(url)\n",
    "time.sleep(3)\n",
    "#print(driver.find_element_by_id('content').text) #id가 content의 내용을 가져온다.\n",
    "#print(driver.find_element_by_xpath('//*[@id=\"NM_FAVORITE\"]/div[1]/ul[2]/li[3]/a').text) #증권값을 얻어온다.\n",
    "\n",
    "stock = driver.find_element_by_xpath('//*[@id=\"NM_FAVORITE\"]/div[1]/ul[2]/li[3]/a')\n",
    "stock.click()\n",
    "\n",
    "time.sleep(3)\n",
    "search_box = driver.find_element_by_xpath('//*[@id=\"stock_items\"]')\n",
    "search_box.send_keys('삼성')\n",
    "search_box.send_keys(Keys.RETURN)\n",
    "\n",
    "#driver.close() #창을 닫는다"
   ]
  },
  {
   "cell_type": "code",
   "execution_count": 61,
   "metadata": {},
   "outputs": [
    {
     "name": "stderr",
     "output_type": "stream",
     "text": [
      "<ipython-input-61-eac7b0ff6961>:6: DeprecationWarning: executable_path has been deprecated, please pass in a Service object\n",
      "  driver = webdriver.Chrome(executable_path='./chromedriver.exe')\n",
      "<ipython-input-61-eac7b0ff6961>:11: DeprecationWarning: find_element_by_xpath is deprecated. Please use find_element(by=By.XPATH, value=xpath) instead\n",
      "  search_box = driver.find_element_by_xpath('//*[@id=\"quick_ul\"]/li[2]/a')\n",
      "<ipython-input-61-eac7b0ff6961>:21: DeprecationWarning: find_elements_by_xpath is deprecated. Please use find_elements(by=By.XPATH, value=xpath) instead\n",
      "  search_area = driver.find_elements_by_xpath('//*[@id=\"SIDO_NM0\"]/option')\n"
     ]
    },
    {
     "name": "stdout",
     "output_type": "stream",
     "text": [
      "18\n"
     ]
    }
   ],
   "source": [
    "from selenium import webdriver\n",
    "from selenium.webdriver.common.keys import Keys\n",
    "import time\n",
    "\n",
    "\n",
    "driver = webdriver.Chrome(executable_path='./chromedriver.exe')\n",
    "url = \"https://www.opinet.co.kr/user/main/mainView.do\"\n",
    "driver.get(url)\n",
    "time.sleep(3)\n",
    "\n",
    "search_box = driver.find_element_by_xpath('//*[@id=\"quick_ul\"]/li[2]/a')\n",
    "search_box.send_keys(Keys.RETURN)\n",
    "\n",
    "time.sleep(2)\n",
    "\n",
    "\n",
    "search_area = driver.find_element_by_xpath('//*[@id=\"SIDO_NM0\"]/option[7]')\n",
    "search_area.click()\n",
    "time.sleep(1)\n",
    "\n",
    "# search_area = driver.find_elements_by_xpath('//*[@id=\"SIDO_NM0\"]/option') 배열의 갯수를 가져올수 있는 방법\n",
    "# print(len(search_area))\n",
    "\n",
    "\n",
    "\n",
    "for i in range(2,7):\n",
    "    search_area2 = driver.find_element_by_xpath('//*[@id=\"SIGUNGU_NM0\"]/option[{}]'.format(i))\n",
    "    search_area2.click()\n",
    "    time.sleep(3)\n",
    "    search = driver.find_element_by_xpath('//*[@id=\"searRgSelect\"]/span')\n",
    "    search.click()\n",
    "    time.sleep(3)\n",
    "    search_Save = driver.find_element_by_xpath('//*[@id=\"glopopd_excel\"]/span')\n",
    "    search_Save.click()"
   ]
  }
 ],
 "metadata": {
  "kernelspec": {
   "display_name": "Python 3",
   "language": "python",
   "name": "python3"
  },
  "language_info": {
   "codemirror_mode": {
    "name": "ipython",
    "version": 3
   },
   "file_extension": ".py",
   "mimetype": "text/x-python",
   "name": "python",
   "nbconvert_exporter": "python",
   "pygments_lexer": "ipython3",
   "version": "3.8.3"
  }
 },
 "nbformat": 4,
 "nbformat_minor": 4
}
