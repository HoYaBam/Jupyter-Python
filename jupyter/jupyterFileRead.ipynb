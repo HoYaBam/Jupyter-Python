{
 "cells": [
  {
   "cell_type": "markdown",
   "metadata": {},
   "source": [
    "# 파일 읽어드려 확인하기"
   ]
  },
  {
   "cell_type": "code",
   "execution_count": null,
   "metadata": {},
   "outputs": [],
   "source": [
    "from urllib.request import urlopen\n",
    "textPage = urlopen('http://www.pythonscraping.com/pages/warandpeace/chapter1-ru.txt')\n",
    "print(str(textPage.read(), 'utf-8'))"
   ]
  },
  {
   "cell_type": "code",
   "execution_count": 16,
   "metadata": {},
   "outputs": [
    {
     "name": "stdout",
     "output_type": "stream",
     "text": [
      "안녕하세요 (☞ﾟヮﾟ)☞༼ つ ◕_◕ ༽つ☜(ﾟヮﾟ☜)╰(*°▽°*)╯(●'◡'●)(❁´◡`❁)☆*: .｡. o(≧▽≦)o .｡.:*☆(*/ω＼*)(^///^):-D^_^:-)ᓚᘏᗢ(┬┬﹏┬┬)ಥ_ಥಠ_ಠ(╯°□°）╯︵ ┻━┻( ´･･)ﾉ(._.`)( ´･･)ﾉ(._.`)^_~;-):)^_^^_____^^0^:D:-):-D:P:-P:-(:(;Pφ(*￣0￣)q(≧▽≦q)（￣︶￣）↗　ψ(｀∇´)ψ*^____^*(～￣▽￣)～( •̀ ω •́ )✧[]~(￣▽￣)~*O(∩_∩)Oo(*^＠^*)oφ(゜▽゜*)♪(✿◡‿◡)`(*>﹏<*)′(*^▽^*)(●ˇ∀ˇ●)(❁´◡`❁)(*^_^*)(´▽`ʃ♡ƪ)(≧∇≦)ﾉ（*＾-＾*）○( ＾皿＾)っ Hehehe…(￣y▽￣)╭ Ohohoho.....\\^o^/\\^o^/\n",
      "안녕하세요 (☞?ヮ?)☞? つ ?_? ?つ☜(?ヮ?☜)?(*°▽°*)?(●'?'●)(?´?`?)☆*: .?. o(?▽?)o .?.:*☆(*/ω＼*)(^///^):-D^_^:-)???(┬┬?┬┬)?_??_?(?°□°）?? ┻━┻( ´??)?(._.`)( ´??)?(._.`)^_~;-):)^_^^_____^^0^:D:-):-D:P:-P:-(:(;Pφ(*￣0￣)q(?▽?q)（￣?￣）↗　ψ(｀∇´)ψ*^____^*(～￣▽￣)～( ?? ω ?? )?[]~(￣▽￣)~*O(∩_∩)Oo(*^＠^*)oφ(?▽?*)♪(????)`(*>?<*)′(*^▽^*)(●ˇ∀ˇ●)(?´?`?)(*^_^*)(´▽`?♡?)(?∇?)?（*＾-＾*）○( ＾皿＾)っ Hehehe…(￣y▽￣)? Ohohoho.....\\^o^/\\^o^/\n"
     ]
    }
   ],
   "source": [
    "file = open('hello.text','r',encoding='utf-8')\n",
    "text = file.read()\n",
    "print(text)\n",
    "\n",
    "file2 = open('hello2.txt','r',encoding='cp949')\n",
    "text2 = file2.read()\n",
    "print(text2)"
   ]
  },
  {
   "cell_type": "code",
   "execution_count": 25,
   "metadata": {},
   "outputs": [
    {
     "name": "stdout",
     "output_type": "stream",
     "text": [
      "['Name', 'Year']\n",
      "{'Name': \"Monty Python's Flying Circus\", 'Year': '1970'}\n",
      "{'Name': 'Another Monty Python Record', 'Year': '1971'}\n",
      "{'Name': \"Monty Python's Previous Record\", 'Year': '1972'}\n",
      "{'Name': 'The Monty Python Matching Tie and Handkerchief', 'Year': '1973'}\n",
      "{'Name': 'Monty Python Live at Drury Lane', 'Year': '1974'}\n",
      "{'Name': 'An Album of the Soundtrack of the Trailer of the Film of Monty Python and the Holy Grail', 'Year': '1975'}\n",
      "{'Name': 'Monty Python Live at City Center', 'Year': '1977'}\n",
      "{'Name': 'The Monty Python Instant Record Collection', 'Year': '1977'}\n",
      "{'Name': \"Monty Python's Life of Brian\", 'Year': '1979'}\n",
      "{'Name': \"Monty Python's Cotractual Obligation Album\", 'Year': '1980'}\n",
      "{'Name': \"Monty Python's The Meaning of Life\", 'Year': '1983'}\n",
      "{'Name': 'The Final Rip Off', 'Year': '1987'}\n",
      "{'Name': 'Monty Python Sings', 'Year': '1989'}\n",
      "{'Name': 'The Ultimate Monty Python Rip Off', 'Year': '1994'}\n",
      "{'Name': 'Monty Python Sings Again', 'Year': '2014'}\n"
     ]
    }
   ],
   "source": [
    "from urllib.request import urlopen\n",
    "from io import StringIO\n",
    "import csv\n",
    "\n",
    "url = 'http://pythonscraping.com/files/MontyPythonAlbums.csv'\n",
    "data = urlopen(url).read().decode('ascii', 'ignore')\n",
    "dataFile = StringIO(data)\n",
    "\n",
    "dictReader = csv.DictReader(dataFile)  # 딕셔러리 형태로 저장해준다. 중요\n",
    "csvReader = csv.reader(dataFile)\n",
    "\n",
    "print(dictReader.fieldnames)\n",
    "\n",
    "for row in dictReader:\n",
    "    print(row)"
   ]
  }
 ],
 "metadata": {
  "kernelspec": {
   "display_name": "Python 3",
   "language": "python",
   "name": "python3"
  },
  "language_info": {
   "codemirror_mode": {
    "name": "ipython",
    "version": 3
   },
   "file_extension": ".py",
   "mimetype": "text/x-python",
   "name": "python",
   "nbconvert_exporter": "python",
   "pygments_lexer": "ipython3",
   "version": "3.8.3"
  }
 },
 "nbformat": 4,
 "nbformat_minor": 4
}
