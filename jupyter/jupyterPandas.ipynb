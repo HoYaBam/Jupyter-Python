{
 "cells": [
  {
   "cell_type": "markdown",
   "metadata": {},
   "source": [
    "# pandas 기초 실습"
   ]
  },
  {
   "cell_type": "code",
   "execution_count": null,
   "metadata": {},
   "outputs": [],
   "source": [
    "import pandas as pd\n",
    "df = pd.read_html('https://ko.wikipedia.org/wiki/%EC%98%AC%EB%A6%BC%ED%94%BD_%EB%A9%94%EB%8B%AC_%EC%A7%91%EA%B3%84', header=0, \n",
    "                 index_col=0)\n",
    "print(df)"
   ]
  },
  {
   "cell_type": "code",
   "execution_count": 35,
   "metadata": {},
   "outputs": [
    {
     "name": "stdout",
     "output_type": "stream",
     "text": [
      "                              하계참가횟수     금     은     동      계\n",
      "국가 (IOC 코드)                                                  \n",
      "총합                                28  5116  5082  5490  15688\n",
      "미국 (USA) [P] [Q] [R] [Z] [F]      27  1022   795   706   2523\n",
      "소련 (URS) [URS]                     9   395   319   296   1010\n",
      "영국 (GBR) [GBR] [Z]                28   263   295   293    851\n",
      "중화인민공화국 (CHN) [CHN]               10   224   167   155    546\n",
      "...                              ...   ...   ...   ...    ...\n",
      "레바논 (LIB)                         17     0     2     2      4\n",
      "세르비아 몬테네그로 (SCG) [SCG]             1     0     2     0      2\n",
      "지부티 (DJI) [B]                      8     0     0     1      1\n",
      "키프로스 (CYP)                        10     0     1     0      1\n",
      "아프가니스탄 (AFG)                      14     0     0     2      2\n",
      "\n",
      "[153 rows x 5 columns]\n"
     ]
    }
   ],
   "source": [
    "summer = df[0].iloc[:,:5] #.iloc[행, 열] 행 : 모든행 열 : 5 열 5개\n",
    "summer.columns = ['하계참가횟수', '금', '은','동','계']\n",
    "\n",
    "print(summer.sort_values('금', ascending=False))\n",
    "# summer.to_excel('하계올림픽메달.xlsx')"
   ]
  },
  {
   "cell_type": "code",
   "execution_count": 38,
   "metadata": {},
   "outputs": [
    {
     "name": "stdout",
     "output_type": "stream",
     "text": [
      "DatetimeIndex(['2000-01-01', '2000-01-02', '2000-01-03', '2000-01-04',\n",
      "               '2000-01-05', '2000-01-06', '2000-01-07', '2000-01-08'],\n",
      "              dtype='datetime64[ns]', freq='D')\n",
      "2000-01-01    0.146529\n",
      "2000-01-02    0.185470\n",
      "2000-01-03    0.343592\n",
      "2000-01-04    0.691503\n",
      "2000-01-05    0.175244\n",
      "2000-01-06    0.334594\n",
      "2000-01-07    0.062596\n",
      "2000-01-08    0.879454\n",
      "Freq: D, Name: B, dtype: float64\n",
      "                  A         B         C\n",
      "2000-01-04  0.36687  0.691503  0.949605\n",
      "2000-01-08  0.64963  0.879454  0.162492\n",
      "                   A         B         C         D\n",
      "2000-01-01  0.712539  0.146529  0.308659  4.862768\n",
      "2000-01-02  0.368156  0.185470  0.713475  1.984983\n",
      "2000-01-03  0.377057  0.343592  0.316311  1.097396\n",
      "2000-01-04  0.366870  0.691503  0.949605  0.530539\n",
      "2000-01-05  0.587327  0.175244  0.361284  3.351473\n",
      "2000-01-06  0.222045  0.334594  0.570449  0.663625\n",
      "2000-01-07  0.401813  0.062596  0.802289  6.419117\n",
      "2000-01-08  0.649630  0.879454  0.162492  0.738674\n",
      "                   A         B         C         D         E\n",
      "2000-01-01  0.712539  0.146529  0.308659  4.862768  6.030495\n",
      "2000-01-02  0.368156  0.185470  0.713475  1.984983  3.252084\n",
      "2000-01-03  0.377057  0.343592  0.316311  1.097396  2.134357\n",
      "2000-01-04  0.366870  0.691503  0.949605  0.530539  2.538517\n",
      "2000-01-05  0.587327  0.175244  0.361284  3.351473  4.475328\n",
      "2000-01-06  0.222045  0.334594  0.570449  0.663625  1.790713\n",
      "2000-01-07  0.401813  0.062596  0.802289  6.419117  7.685814\n",
      "2000-01-08  0.649630  0.879454  0.162492  0.738674  2.430250\n",
      "A     3.685434\n",
      "B     2.818983\n",
      "C     4.184564\n",
      "D    19.648576\n",
      "E    30.337558\n",
      "dtype: float64\n"
     ]
    }
   ],
   "source": [
    "import pandas as pd\n",
    "import numpy as np\n",
    "index = pd.date_range('1/1/2000', periods=8)\n",
    "print(index)\n",
    "\n",
    "df = pd.DataFrame(np.random.rand(8,3), index=index, columns=list('ABC'))\n",
    "print(df['B'])\n",
    "df1 = df[df['B'] > 0.4]\n",
    "print(df1)\n",
    "\n",
    "df['D'] = df['A'] / df['B']\n",
    "print(df)\n",
    "\n",
    "df['E'] = np.sum(df , axis = 1)\n",
    "print(df)\n",
    "\n",
    "df1 = np.sum(df, axis = 0)\n",
    "print(df1)"
   ]
  },
  {
   "cell_type": "code",
   "execution_count": 39,
   "metadata": {},
   "outputs": [
    {
     "name": "stdout",
     "output_type": "stream",
     "text": [
      "                   A         B         C\n",
      "2000-01-01  0.529434  0.862583  0.349656\n",
      "2000-01-02  0.606181  0.910557  0.620704\n",
      "2000-01-03  0.885968  0.391491  0.834914\n",
      "2000-01-04  0.582884  0.861285  0.289138\n",
      "2000-01-05  0.675697  0.864902  0.808347\n",
      "2000-01-06  0.447795  0.675521  0.243574\n",
      "2000-01-07  0.682057  0.513377  0.184789\n",
      "2000-01-08  0.515370  0.887459  0.225316\n",
      "                   A         B         C\n",
      "2000-01-01  0.329434  0.862583  0.349656\n",
      "2000-01-02  0.406181  0.910557  0.620704\n",
      "2000-01-03  0.685968  0.391491  0.834914\n",
      "2000-01-04  0.382884  0.861285  0.289138\n",
      "2000-01-05  0.475697  0.864902  0.808347\n",
      "2000-01-06  0.247795  0.675521  0.243574\n",
      "2000-01-07  0.482057  0.513377  0.184789\n",
      "2000-01-08  0.315370  0.887459  0.225316\n"
     ]
    }
   ],
   "source": [
    "import pandas as pd\n",
    "import numpy as np\n",
    "index = pd.date_range('1/1/2000', periods=8)\n",
    "df = pd.DataFrame(np.random.rand(8,3), index=index, columns=list('ABC'))\n",
    "print(df)\n",
    "\n",
    "df['A'] = df['A'].sub(0.2, axis = 0)\n",
    "print(df)"
   ]
  }
 ],
 "metadata": {
  "kernelspec": {
   "display_name": "Python 3",
   "language": "python",
   "name": "python3"
  },
  "language_info": {
   "codemirror_mode": {
    "name": "ipython",
    "version": 3
   },
   "file_extension": ".py",
   "mimetype": "text/x-python",
   "name": "python",
   "nbconvert_exporter": "python",
   "pygments_lexer": "ipython3",
   "version": "3.8.3"
  }
 },
 "nbformat": 4,
 "nbformat_minor": 4
}
