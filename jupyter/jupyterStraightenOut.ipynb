{
 "cells": [
  {
   "cell_type": "markdown",
   "metadata": {},
   "source": [
    "# 지저분한 데이터 정리하기"
   ]
  },
  {
   "cell_type": "code",
   "execution_count": null,
   "metadata": {},
   "outputs": [],
   "source": [
    "from urllib.request import urlopen\n",
    "from bs4 import BeautifulSoup\n",
    "import re\n",
    "\n",
    "def getNgrams(content, n):\n",
    "    content = re.sub('\\n|[[\\d+\\]]', ' ', content)\n",
    "    content = re.sub('\\(','', content)\n",
    "    content = re.sub('\\)','', content)\n",
    "    content = re.sub('\\.','', content)\n",
    "    content = bytes(content, 'UTF-8')\n",
    "    content = content.decode('ascii', 'ignore')\n",
    "    content = content.split(' ')\n",
    "    content = [word for word in content if word != '']\n",
    "    output = []\n",
    "    for i in range(len(content)-n+1):\n",
    "        output.append(content[i:i+n])\n",
    "    return output\n",
    "\n",
    "html = urlopen('https://en.wikipedia.org/wiki/Python_(programming_language)')\n",
    "bs = BeautifulSoup(html, 'html.parser')\n",
    "content = bs.find('div', {'id':'mw-content-text'}).get_text()\n",
    "\n",
    "ngrams = getNgrams(content, 2)\n",
    "print(ngrams)\n",
    "print('2-grams count is : ' + str(len(ngrams)))"
   ]
  },
  {
   "cell_type": "code",
   "execution_count": null,
   "metadata": {},
   "outputs": [],
   "source": [
    "from urllib.request import urlopen\n",
    "from bs4 import BeautifulSoup\n",
    "import re\n",
    "import string\n",
    "\n",
    "def cleanSentence(sentence):\n",
    "    sentence = sentence.split(' ')\n",
    "    sentence = re.sub('\\(','', content)\n",
    "    sentence = re.sub('\\)','', content)\n",
    "    sentence = re.sub('\\.','', content)\n",
    "    sentence = [word.strip(string.punctuation+string.whitespace) for word in sentence]\n",
    "    sentence = [word for word in sentence if len(word) > 1 or (word.lower() == 'a' or word.lower() == 'i')]\n",
    "    return sentence\n",
    "\n",
    "def cleanInput(content):\n",
    "    content = content.upper()\n",
    "    content = re.sub('\\n|[[\\d+\\]]', ' ', content)\n",
    "    content = bytes(content, \"UTF-8\")\n",
    "    content = content.decode(\"ascii\", \"ignore\")\n",
    "    sentences = content.split('. ')\n",
    "    return [cleanSentence(sentence) for sentence in sentences]\n",
    "\n",
    "def getNgramsFromSentence(content, n):\n",
    "    output = []\n",
    "    for i in range(len(content)-n+1):\n",
    "        output.append(content[i:i+n])\n",
    "    return output\n",
    "\n",
    "def getNgrams(content, n):\n",
    "    content = cleanInput(content)\n",
    "    ngrams = []\n",
    "    for sentence in content:\n",
    "        ngrams.extend(getNgramsFromSentence(sentence, n))\n",
    "    return(ngrams)\n",
    "\n",
    "html = urlopen('https://en.wikipedia.org/wiki/Python_(programming_language)')\n",
    "bs = BeautifulSoup(html, 'html.parser')\n",
    "content = bs.find('div', {'id':'mw-content-text'}).get_text()\n",
    "\n",
    "ngrams = getNgrams(content, 2)\n",
    "print(ngrams)\n",
    "print('2-grams count is : ' + str(len(ngrams)))"
   ]
  }
 ],
 "metadata": {
  "kernelspec": {
   "display_name": "Python 3",
   "language": "python",
   "name": "python3"
  },
  "language_info": {
   "codemirror_mode": {
    "name": "ipython",
    "version": 3
   },
   "file_extension": ".py",
   "mimetype": "text/x-python",
   "name": "python",
   "nbconvert_exporter": "python",
   "pygments_lexer": "ipython3",
   "version": "3.8.3"
  }
 },
 "nbformat": 4,
 "nbformat_minor": 4
}
