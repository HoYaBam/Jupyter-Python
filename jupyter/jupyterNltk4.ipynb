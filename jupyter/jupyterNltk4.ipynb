{
 "cells": [
  {
   "cell_type": "markdown",
   "metadata": {},
   "source": [
    "# 글 부정글정 나누기"
   ]
  },
  {
   "cell_type": "code",
   "execution_count": 5,
   "metadata": {},
   "outputs": [
    {
     "name": "stderr",
     "output_type": "stream",
     "text": [
      "<ipython-input-5-3cf323db024f>:37: DeprecationWarning: executable_path has been deprecated, please pass in a Service object\n",
      "  driver = webdriver.Chrome(executable_path = './chromedriver.exe')\n",
      "<ipython-input-5-3cf323db024f>:13: DeprecationWarning: find_element_by_xpath is deprecated. Please use find_element(by=By.XPATH, value=xpath) instead\n",
      "  driver.find_element_by_xpath('//*[@id=\"cont_view\"]/div[2]/div/div/div[2]/div[2]/div[4]/div/div[2]/div[2]/ul/li['+str(i)+']/div/div[2]/a').click()\n",
      "<ipython-input-5-3cf323db024f>:15: DeprecationWarning: find_element_by_xpath is deprecated. Please use find_element(by=By.XPATH, value=xpath) instead\n",
      "  content = driver.find_element_by_xpath('//*[@id=\"cont_view\"]/div[2]/div[1]/div/div[1]/div/div[4]/div[2]').text\n"
     ]
    },
    {
     "name": "stdout",
     "output_type": "stream",
     "text": [
      "포탈 :  1712\n",
      "긍정 :  989\n",
      "부정 :  680\n",
      "중립 :  43\n"
     ]
    },
    {
     "data": {
      "image/png": "[encoded data removed]",
      "text/plain": [
       "<Figure size 432x288 with 1 Axes>"
      ]
     },
     "metadata": {},
     "output_type": "display_data"
    },
    {
     "data": {
      "text/plain": [
       "<bound method WebDriver.close of <selenium.webdriver.chrome.webdriver.WebDriver (session=\"3df87a8fb48a98746df92c1e557633c1\")>>"
      ]
     },
     "execution_count": 5,
     "metadata": {},
     "output_type": "execute_result"
    }
   ],
   "source": [
    "from selenium import webdriver\n",
    "import time\n",
    "from konlpy.tag import Mecab\n",
    "from collections import Counter\n",
    "import matplotlib.pyplot as plt\n",
    "\n",
    "def getContents(url):\n",
    "   \n",
    "    driver.get(url)\n",
    "    contents = ''\n",
    "    for i in range(1,8):\n",
    "        time.sleep(3)\n",
    "        driver.find_element_by_xpath('//*[@id=\"cont_view\"]/div[2]/div/div/div[2]/div[2]/div[4]/div/div[2]/div[2]/ul/li['+str(i)+']/div/div[2]/a').click()\n",
    "        time.sleep(3)\n",
    "        content = driver.find_element_by_xpath('//*[@id=\"cont_view\"]/div[2]/div[1]/div/div[1]/div/div[4]/div[2]').text\n",
    "        contents += content\n",
    "        driver.back()\n",
    "    return contents\n",
    "\n",
    "def wordSearch(fileName):\n",
    "    file = open(fileName, 'r', encoding='utf-8')\n",
    "\n",
    "    readFile = file.read()\n",
    "    readFile = readFile.replace('\\n', ' ')\n",
    "    readFile = readFile.split(' ')\n",
    "    # print(readFile)\n",
    "\n",
    "    words = []\n",
    "    for word in readFile:\n",
    "        if word not in words:\n",
    "            words.append(word)\n",
    "\n",
    "    file.close()\n",
    "    return words\n",
    "\n",
    "m = Mecab('C:\\\\mecab\\\\mecab-ko-dic')\n",
    "driver = webdriver.Chrome(executable_path = './chromedriver.exe')\n",
    "url = \"https://www1.president.go.kr/petitions/?c=37&only=1&page=1&order=1\"\n",
    "contents = getContents(url)\n",
    "negativeWords = wordSearch('부정.txt')\n",
    "positiveWords = wordSearch('긍정.txt')\n",
    "nenuWords = wordSearch('중립.txt')\n",
    "\n",
    "neSum = 0\n",
    "poSum = 0\n",
    "nenuSum = 0\n",
    "for word in contents:\n",
    "    if word in negativeWords:\n",
    "        neSum += 1\n",
    "    if word in positiveWords:\n",
    "        poSum += 1\n",
    "    if word in nenuWords:\n",
    "        nenuSum += 1\n",
    "\n",
    "print(\"포탈 : \" , (neSum + poSum + nenuSum))\n",
    "print(\"긍정 : \" , neSum)\n",
    "print(\"부정 : \" , poSum)\n",
    "print(\"중립 : \", nenuSum)\n",
    "\n",
    "pieData = []\n",
    "pieData.append(neSum)\n",
    "pieData.append(poSum)\n",
    "pieData.append(nenuSum)\n",
    "pieData.append(len(contents) - (neSum + poSum + nenuSum))\n",
    "labels = ['negative', 'positive', 'nenu', 'other']\n",
    "\n",
    "plt.pie(pieData, labels = labels, autopct=\"%.1f%%\")\n",
    "plt.show()\n",
    "\n",
    "\n",
    "\n",
    "\n",
    "driver.close"
   ]
  }
 ],
 "metadata": {
  "kernelspec": {
   "display_name": "Python 3",
   "language": "python",
   "name": "python3"
  },
  "language_info": {
   "codemirror_mode": {
    "name": "ipython",
    "version": 3
   },
   "file_extension": ".py",
   "mimetype": "text/x-python",
   "name": "python",
   "nbconvert_exporter": "python",
   "pygments_lexer": "ipython3",
   "version": "3.8.3"
  }
 },
 "nbformat": 4,
 "nbformat_minor": 4
}
