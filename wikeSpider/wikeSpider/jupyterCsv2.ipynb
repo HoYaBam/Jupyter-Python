{
 "cells": [
  {
   "cell_type": "markdown",
   "metadata": {},
   "source": [
    "# 글 읽어오고 저장하기\n",
    "## 엑셀을 읽어오고 다른 엑셀에 저장\n",
    "## 선생님이 내준 과제 (한국물가정보 가져오기)"
   ]
  },
  {
   "cell_type": "code",
   "execution_count": 3,
   "metadata": {},
   "outputs": [
    {
     "name": "stderr",
     "output_type": "stream",
     "text": [
      "<ipython-input-3-8c6fb6c421ac>:6: DeprecationWarning: executable_path has been deprecated, please pass in a Service object\n",
      "  driver = webdriver.Chrome(executable_path='./chromedriver.exe')\n",
      "<ipython-input-3-8c6fb6c421ac>:15: DeprecationWarning: find_element_by_xpath is deprecated. Please use find_element(by=By.XPATH, value=xpath) instead\n",
      "  driver.find_element_by_xpath('//*[@id=\"table_two_sub\"]/table[2]/tbody/tr[3]/td/table/tbody/tr/td[{}]/a'.format(p)).click()\n",
      "<ipython-input-3-8c6fb6c421ac>:16: DeprecationWarning: find_element_by_xpath is deprecated. Please use find_element(by=By.XPATH, value=xpath) instead\n",
      "  title = driver.find_element_by_xpath('//*[@id=\"table_two_sub\"]/table[2]/tbody/tr[3]/td/table/tbody/tr/td[{}]/a'.format(p)).text\n",
      "<ipython-input-3-8c6fb6c421ac>:20: DeprecationWarning: find_element_by_xpath is deprecated. Please use find_element(by=By.XPATH, value=xpath) instead\n",
      "  driver.find_element_by_xpath('//*[@id=\"selDateWeek\"]').send_keys('{}'.format(z))\n",
      "<ipython-input-3-8c6fb6c421ac>:21: DeprecationWarning: find_element_by_xpath is deprecated. Please use find_element(by=By.XPATH, value=xpath) instead\n",
      "  driver.find_element_by_xpath('//*[@id=\"searchLifePriceInfoBtn\"]').click()\n",
      "<ipython-input-3-8c6fb6c421ac>:23: DeprecationWarning: find_elements_by_xpath is deprecated. Please use find_elements(by=By.XPATH, value=xpath) instead\n",
      "  for i in range(2,(len(driver.find_elements_by_xpath('//*[@id=\"table_two_sub\"]/table[3]/tbody/tr[2]/td/table/tbody/tr')) + 1)):\n",
      "<ipython-input-3-8c6fb6c421ac>:28: DeprecationWarning: find_element_by_xpath is deprecated. Please use find_element(by=By.XPATH, value=xpath) instead\n",
      "  data = driver.find_element_by_xpath('//*[@id=\"table_two_sub\"]/table[3]/tbody/tr[2]/td/table/tbody/tr[{}]/td[{}]'.format(i,j))\n"
     ]
    },
    {
     "name": "stdout",
     "output_type": "stream",
     "text": [
      "완료\n"
     ]
    }
   ],
   "source": [
    "from selenium import webdriver\n",
    "from selenium.webdriver.common.keys import Keys\n",
    "import time\n",
    "import csv\n",
    "\n",
    "driver = webdriver.Chrome(executable_path='./chromedriver.exe')\n",
    "url = \"https://www.kpi.or.kr/www/life/info_detail.asp?CateCode=L001002&DateCode=2022033\"\n",
    "driver.get(url)\n",
    "time.sleep(3)\n",
    "\n",
    "csvfile = open('kpi.csv', 'wt+', newline=\"\")\n",
    "csvfilew = csv.writer(csvfile)\n",
    "\n",
    "for p in range(1, 8):\n",
    "    driver.find_element_by_xpath('//*[@id=\"table_two_sub\"]/table[2]/tbody/tr[3]/td/table/tbody/tr/td[{}]/a'.format(p)).click()\n",
    "    title = driver.find_element_by_xpath('//*[@id=\"table_two_sub\"]/table[2]/tbody/tr[3]/td/table/tbody/tr/td[{}]/a'.format(p)).text\n",
    "    csvfilew.writerow(['주', '품목','단위','가격','전주비','전월비','전년비'])\n",
    "    csvfilew.writerow(['-', '-','-',title,'-','-','-'])\n",
    "    for z in range(1,4):\n",
    "        driver.find_element_by_xpath('//*[@id=\"selDateWeek\"]').send_keys('{}'.format(z))\n",
    "        driver.find_element_by_xpath('//*[@id=\"searchLifePriceInfoBtn\"]').click()\n",
    "        time.sleep(2)\n",
    "        for i in range(2,(len(driver.find_elements_by_xpath('//*[@id=\"table_two_sub\"]/table[3]/tbody/tr[2]/td/table/tbody/tr')) + 1)):\n",
    "            newlistdata = []\n",
    "            newlistdata.append('{}주'.format(z))\n",
    "            for j in range(1,7):\n",
    "                try:\n",
    "                    data = driver.find_element_by_xpath('//*[@id=\"table_two_sub\"]/table[3]/tbody/tr[2]/td/table/tbody/tr[{}]/td[{}]'.format(i,j))\n",
    "                    newdata = data.text\n",
    "                    newlistdata.append(newdata)\n",
    "                except:\n",
    "                    continue\n",
    "#             if newlistdata != ['{}주'.format(z)]:\n",
    "            csvfilew.writerow(newlistdata)\n",
    "print(\"완료\")\n",
    "csvfile.close()"
   ]
  }
 ],
 "metadata": {
  "kernelspec": {
   "display_name": "Python 3",
   "language": "python",
   "name": "python3"
  },
  "language_info": {
   "codemirror_mode": {
    "name": "ipython",
    "version": 3
   },
   "file_extension": ".py",
   "mimetype": "text/x-python",
   "name": "python",
   "nbconvert_exporter": "python",
   "pygments_lexer": "ipython3",
   "version": "3.8.3"
  }
 },
 "nbformat": 4,
 "nbformat_minor": 4
}
