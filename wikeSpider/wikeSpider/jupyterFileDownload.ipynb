{
 "cells": [
  {
   "cell_type": "markdown",
   "metadata": {},
   "source": [
    "# 파일 다운로드\n",
    "## 이미지 다운로드"
   ]
  },
  {
   "cell_type": "code",
   "execution_count": 21,
   "metadata": {},
   "outputs": [
    {
     "name": "stdout",
     "output_type": "stream",
     "text": [
      "C:\\Users\\hoya9\\wikeSpider\\wikeSpider\\images\n"
     ]
    },
    {
     "data": {
      "text/plain": [
       "('C:\\\\Users\\\\hoya9\\\\wikeSpider\\\\wikeSpider\\\\images\\\\logo.jpg',\n",
       " <http.client.HTTPMessage at 0x24cf850c430>)"
      ]
     },
     "execution_count": 21,
     "metadata": {},
     "output_type": "execute_result"
    }
   ],
   "source": [
    "from urllib.request import urlopen\n",
    "from urllib.request import urlretrieve\n",
    "from bs4 import BeautifulSoup\n",
    "import os\n",
    "\n",
    "html = urlopen('http://www.pythonscraping.com')\n",
    "bs = BeautifulSoup(html, \"html.parser\")\n",
    "imageLocation = bs.find('img')['src']\n",
    "directory = os.getcwd() + '\\images'\n",
    "print(directory)\n",
    "if not os.path.exists(directory):\n",
    "    os.makedirs(directory)\n",
    "urlretrieve(imageLocation, directory + '\\logo.jpg')"
   ]
  },
  {
   "cell_type": "code",
   "execution_count": 52,
   "metadata": {},
   "outputs": [
    {
     "name": "stderr",
     "output_type": "stream",
     "text": [
      "<ipython-input-52-07e7650ad2e7>:11: DeprecationWarning: executable_path has been deprecated, please pass in a Service object\n",
      "  driver = webdriver.Chrome(executable_path='./chromedriver.exe')\n",
      "<ipython-input-52-07e7650ad2e7>:15: DeprecationWarning: find_element_by_xpath is deprecated. Please use find_element(by=By.XPATH, value=xpath) instead\n",
      "  driver.find_element_by_xpath('/html/body/div[1]/div[3]/form/div[1]/div[1]/div[1]/div/div[2]/input').send_keys(\"봄꽃\")\n",
      "<ipython-input-52-07e7650ad2e7>:16: DeprecationWarning: find_element_by_xpath is deprecated. Please use find_element(by=By.XPATH, value=xpath) instead\n",
      "  driver.find_element_by_xpath('/html/body/div[1]/div[3]/form/div[1]/div[1]/div[1]/div/div[2]/input').send_keys(Keys.RETURN)\n",
      "<ipython-input-52-07e7650ad2e7>:18: DeprecationWarning: find_element_by_xpath is deprecated. Please use find_element(by=By.XPATH, value=xpath) instead\n",
      "  driver.find_element_by_xpath('//*[@id=\"hdtb-msb\"]/div[1]/div/div[2]/a').click()\n",
      "<ipython-input-52-07e7650ad2e7>:25: DeprecationWarning: find_element_by_xpath is deprecated. Please use find_element(by=By.XPATH, value=xpath) instead\n",
      "  lists = driver.find_element_by_xpath('//*[@id=\"islrg\"]/div[1]/div[{}]/a[1]/div[1]/img'.format(i))\n"
     ]
    }
   ],
   "source": [
    "from urllib.request import urlopen\n",
    "from urllib.request import urlretrieve\n",
    "from bs4 import BeautifulSoup\n",
    "import os\n",
    "from selenium import webdriver\n",
    "from selenium.webdriver.common.keys import Keys\n",
    "import time\n",
    "\n",
    "\n",
    "\n",
    "driver = webdriver.Chrome(executable_path='./chromedriver.exe')\n",
    "url = \"https://www.google.com/webhp?hl=ko&sa=X&ved=0ahUKEwib586si9v2AhWSLZQKHbihB1AQPAgI\"\n",
    "driver.get(url)\n",
    "time.sleep(2)\n",
    "driver.find_element_by_xpath('/html/body/div[1]/div[3]/form/div[1]/div[1]/div[1]/div/div[2]/input').send_keys(\"봄꽃\")\n",
    "driver.find_element_by_xpath('/html/body/div[1]/div[3]/form/div[1]/div[1]/div[1]/div/div[2]/input').send_keys(Keys.RETURN)\n",
    "time.sleep(1)\n",
    "driver.find_element_by_xpath('//*[@id=\"hdtb-msb\"]/div[1]/div/div[2]/a').click()\n",
    "time.sleep(1)\n",
    "\n",
    "\n",
    "directory = os.getcwd() + '\\images'\n",
    "\n",
    "for i in range(1, 11):\n",
    "    lists = driver.find_element_by_xpath('//*[@id=\"islrg\"]/div[1]/div[{}]/a[1]/div[1]/img'.format(i))\n",
    "    imageLocation = lists.get_attribute('src')\n",
    "    \n",
    "    urlretrieve(imageLocation, directory + '\\logo{}.jpg'.format(i))\n",
    "# driver.close()"
   ]
  }
 ],
 "metadata": {
  "kernelspec": {
   "display_name": "Python 3",
   "language": "python",
   "name": "python3"
  },
  "language_info": {
   "codemirror_mode": {
    "name": "ipython",
    "version": 3
   },
   "file_extension": ".py",
   "mimetype": "text/x-python",
   "name": "python",
   "nbconvert_exporter": "python",
   "pygments_lexer": "ipython3",
   "version": "3.8.3"
  }
 },
 "nbformat": 4,
 "nbformat_minor": 4
}
